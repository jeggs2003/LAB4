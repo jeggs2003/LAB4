{
  "nbformat": 4,
  "nbformat_minor": 0,
  "metadata": {
    "colab": {
      "provenance": [],
      "authorship_tag": "ABX9TyOulDmKC3FTHhmVBAPfaz7B",
      "include_colab_link": true
    },
    "kernelspec": {
      "name": "python3",
      "display_name": "Python 3"
    },
    "language_info": {
      "name": "python"
    }
  },
  "cells": [
    {
      "cell_type": "markdown",
      "metadata": {
        "id": "view-in-github",
        "colab_type": "text"
      },
      "source": [
        "<a href=\"https://colab.research.google.com/github/jeggs2003/LAB4/blob/main/PrediccionCultivos.ipynb\" target=\"_parent\"><img src=\"https://colab.research.google.com/assets/colab-badge.svg\" alt=\"Open In Colab\"/></a>"
      ]
    },
    {
      "cell_type": "code",
      "execution_count": 1,
      "metadata": {
        "id": "wMnhDJrXsl_S"
      },
      "outputs": [],
      "source": [
        "import tensorflow as tf\n",
        "import numpy as np"
      ]
    },
    {
      "cell_type": "code",
      "source": [
        "oculta1 = tf.keras.layers.Dense(units=3, input_shape=[3])\n",
        "oculta2 = tf.keras.layers.Dense(units=3)\n",
        "oculta3 = tf.keras.layers.Dense(units=3)\n",
        "oculta4 = tf.keras.layers.Dense(units=3)\n",
        "oculta5 = tf.keras.layers.Dense(units=3)\n",
        "salida = tf.keras.layers.Dense(units=1)\n",
        "modelo = tf.keras.Sequential([oculta1, oculta2, oculta3, oculta4, oculta5, salida])"
      ],
      "metadata": {
        "id": "J_WY_UNLsqdx"
      },
      "execution_count": 30,
      "outputs": []
    },
    {
      "cell_type": "code",
      "source": [
        "modelo.compile(\n",
        "    optimizer=tf.keras.optimizers.Adam(0.1),\n",
        "    loss='mean_squared_error'\n",
        ")"
      ],
      "metadata": {
        "id": "6G3eKDr2s4sy"
      },
      "execution_count": 31,
      "outputs": []
    },
    {
      "cell_type": "code",
      "source": [
        "Humedad = np.array([5, 3, 8, 6, 1, 9, 2], dtype=float)\n",
        "Plagas = np.array([0, 2, 2, 1, 3, 2, 4], dtype=float)\n",
        "LuzSolar = np.array([8, 9, 7, 7, 8, 6, 3], dtype=float)\n",
        "Productividad = np.array([8.3, 5.2, 6.8, 7, 3.2, 9.5, 1.3], dtype=float)\n",
        "\n",
        "X = np.column_stack((Humedad, Plagas, LuzSolar))"
      ],
      "metadata": {
        "id": "LFndrcg-tB_H"
      },
      "execution_count": 32,
      "outputs": []
    },
    {
      "cell_type": "code",
      "source": [
        "print(\"Comenzando entrenamiento...\")\n",
        "# Se debe pasar X y Productividad como argumentos en la función fit()\n",
        "historial = modelo.fit(X, Productividad, epochs=10000, batch_size=1, verbose=False)\n",
        "print(\"Modelo entrenado!\")"
      ],
      "metadata": {
        "colab": {
          "base_uri": "https://localhost:8080/"
        },
        "id": "8FGctalguPRu",
        "outputId": "350f412f-41cc-4dd7-972d-b4ec974144bc"
      },
      "execution_count": 36,
      "outputs": [
        {
          "output_type": "stream",
          "name": "stdout",
          "text": [
            "Comenzando entrenamiento...\n",
            "Modelo entrenado!\n"
          ]
        }
      ]
    },
    {
      "cell_type": "code",
      "source": [
        "import matplotlib.pyplot as plt\n",
        "plt.xlabel(\"# Epoca\")\n",
        "plt.ylabel(\"Magnitud de pérdida\")\n",
        "plt.plot(historial.history[\"loss\"])"
      ],
      "metadata": {
        "colab": {
          "base_uri": "https://localhost:8080/",
          "height": 482
        },
        "id": "wOyyuKPqvhhZ",
        "outputId": "2aae06ab-2cd7-4212-c5e6-d5e8b9eeaaa4"
      },
      "execution_count": 37,
      "outputs": [
        {
          "output_type": "execute_result",
          "data": {
            "text/plain": [
              "[<matplotlib.lines.Line2D at 0x7a0af54721d0>]"
            ]
          },
          "metadata": {},
          "execution_count": 37
        },
        {
          "output_type": "display_data",
          "data": {
            "text/plain": [
              "<Figure size 640x480 with 1 Axes>"
            ],
            "image/png": "[encoded data removed]"
          },
          "metadata": {}
        }
      ]
    },
    {
      "cell_type": "code",
      "source": [
        "print(\"Hagamos una predicción!\")\n",
        "# Combinamos las variables independientes en un solo array y lo pasamos a la función predict\n",
        "nueva_entrada = np.array([[7, 0, 9]], dtype=float)\n",
        "resultado = modelo.predict(nueva_entrada)\n",
        "print(\"El resultado es \" + str(resultado[0][0]) + \" productividad!\")"
      ],
      "metadata": {
        "colab": {
          "base_uri": "https://localhost:8080/"
        },
        "id": "j-HCq97s0nej",
        "outputId": "50e15b47-8c76-4a52-a811-2af61c91a560"
      },
      "execution_count": 49,
      "outputs": [
        {
          "output_type": "stream",
          "name": "stdout",
          "text": [
            "Hagamos una predicción!\n",
            "1/1 [==============================] - 0s 43ms/step\n",
            "El resultado es 8.971895 productividad!\n"
          ]
        }
      ]
    },
    {
      "cell_type": "code",
      "source": [
        "print(\"Variables internas del modelo\")\n",
        "#print(capa.get_weights())\n",
        "print(oculta1.get_weights())\n",
        "print(oculta2.get_weights())\n",
        "print(oculta3.get_weights())\n",
        "print(oculta4.get_weights())\n",
        "print(oculta5.get_weights())\n",
        "print(salida.get_weights())"
      ],
      "metadata": {
        "colab": {
          "base_uri": "https://localhost:8080/"
        },
        "id": "8Wmxb2Sm4NUS",
        "outputId": "73f315ed-fd29-4b11-b469-4cd7cd00b0f1"
      },
      "execution_count": 48,
      "outputs": [
        {
          "output_type": "stream",
          "name": "stdout",
          "text": [
            "Variables internas del modelo\n",
            "[array([[-0.46661305, -0.6221199 ,  2.732904  ],\n",
            "       [-4.5438943 ,  0.3153166 , -3.4479866 ],\n",
            "       [-3.5604744 , -1.9924455 ,  0.6157306 ]], dtype=float32), array([ 0.3573645, -5.873467 , -0.4281925], dtype=float32)]\n",
            "[array([[ 0.77349466, -0.68685806, -1.7834849 ],\n",
            "       [-1.2674872 ,  0.61002725,  2.2354615 ],\n",
            "       [ 0.50961816,  0.9549642 , -0.24250478]], dtype=float32), array([ 5.8503838, -4.3446674,  5.565836 ], dtype=float32)]\n",
            "[array([[-1.3112208 , -0.09513271, -0.20067707],\n",
            "       [ 0.7338445 , -0.37976035,  0.74154913],\n",
            "       [ 0.08838366, -0.07110967, -0.5247256 ]], dtype=float32), array([ 2.206511  ,  7.401394  , -0.45019946], dtype=float32)]\n",
            "[array([[ 0.1236582 ,  0.0540424 ,  0.4089819 ],\n",
            "       [-1.0066278 , -0.73746145, -0.22501701],\n",
            "       [ 1.8972294 ,  1.382538  ,  0.918982  ]], dtype=float32), array([1.1819149, 2.3771167, 3.8582957], dtype=float32)]\n",
            "[array([[-0.11921605,  1.1613288 ,  0.5454774 ],\n",
            "       [-0.73676807, -0.55555683, -0.49287158],\n",
            "       [ 1.0223857 , -1.1240085 , -1.3028355 ]], dtype=float32), array([-0.72965103, -0.0722973 , 11.781086  ], dtype=float32)]\n",
            "[array([[-0.10845288],\n",
            "       [ 0.13274913],\n",
            "       [-0.08975117]], dtype=float32), array([6.8508406], dtype=float32)]\n"
          ]
        }
      ]
    }
  ]
}